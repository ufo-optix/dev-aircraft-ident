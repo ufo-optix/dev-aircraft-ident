{
 "cells": [
  {
   "cell_type": "code",
   "execution_count": 30,
   "metadata": {},
   "outputs": [],
   "source": [
    "import numpy as np\n",
    "import pandas as pd\n",
    "import os\n",
    "import random\n",
    "from collections import Counter\n",
    "from sklearn.model_selection import train_test_split\n",
    "import matplotlib.pyplot as plt\n",
    "\n",
    "import torch\n",
    "import torchvision\n",
    "from torchvision import transforms as T\n",
    "from torchvision.models.detection.faster_rcnn import FastRCNNPredictor\n",
    "import pathlib\n",
    "\n",
    "from PIL import Image, ImageDraw\n"
   ]
  },
  {
   "cell_type": "code",
   "execution_count": 12,
   "metadata": {},
   "outputs": [
    {
     "data": {
      "text/html": [
       "<div>\n",
       "<style scoped>\n",
       "    .dataframe tbody tr th:only-of-type {\n",
       "        vertical-align: middle;\n",
       "    }\n",
       "\n",
       "    .dataframe tbody tr th {\n",
       "        vertical-align: top;\n",
       "    }\n",
       "\n",
       "    .dataframe thead th {\n",
       "        text-align: right;\n",
       "    }\n",
       "</style>\n",
       "<table border=\"1\" class=\"dataframe\">\n",
       "  <thead>\n",
       "    <tr style=\"text-align: right;\">\n",
       "      <th></th>\n",
       "      <th>data</th>\n",
       "      <th>labels</th>\n",
       "      <th>locations</th>\n",
       "      <th>scene_ids</th>\n",
       "    </tr>\n",
       "  </thead>\n",
       "  <tbody>\n",
       "    <tr>\n",
       "      <th>0</th>\n",
       "      <td>[206, 195, 187, 183, 177, 175, 174, 193, 198, ...</td>\n",
       "      <td>1</td>\n",
       "      <td>[-118.40497658522878, 33.940618514147936]</td>\n",
       "      <td>20170620_175442_0e30</td>\n",
       "    </tr>\n",
       "    <tr>\n",
       "      <th>1</th>\n",
       "      <td>[215, 209, 200, 196, 192, 197, 205, 168, 155, ...</td>\n",
       "      <td>1</td>\n",
       "      <td>[-122.392469714, 37.6176425378]</td>\n",
       "      <td>20161212_180859_0e30</td>\n",
       "    </tr>\n",
       "    <tr>\n",
       "      <th>2</th>\n",
       "      <td>[204, 214, 220, 219, 213, 205, 198, 193, 199, ...</td>\n",
       "      <td>1</td>\n",
       "      <td>[-122.397578597, 37.6209247852]</td>\n",
       "      <td>20170524_181349_0e2f</td>\n",
       "    </tr>\n",
       "    <tr>\n",
       "      <th>3</th>\n",
       "      <td>[179, 174, 179, 178, 173, 170, 168, 168, 168, ...</td>\n",
       "      <td>1</td>\n",
       "      <td>[-122.214849831, 37.7203378331]</td>\n",
       "      <td>20161110_180707_0e1f</td>\n",
       "    </tr>\n",
       "    <tr>\n",
       "      <th>4</th>\n",
       "      <td>[222, 222, 218, 214, 208, 205, 207, 206, 206, ...</td>\n",
       "      <td>1</td>\n",
       "      <td>[-117.862173435, 33.6796854072]</td>\n",
       "      <td>20160813_184932_0c64</td>\n",
       "    </tr>\n",
       "  </tbody>\n",
       "</table>\n",
       "</div>"
      ],
      "text/plain": [
       "                                                data  labels  \\\n",
       "0  [206, 195, 187, 183, 177, 175, 174, 193, 198, ...       1   \n",
       "1  [215, 209, 200, 196, 192, 197, 205, 168, 155, ...       1   \n",
       "2  [204, 214, 220, 219, 213, 205, 198, 193, 199, ...       1   \n",
       "3  [179, 174, 179, 178, 173, 170, 168, 168, 168, ...       1   \n",
       "4  [222, 222, 218, 214, 208, 205, 207, 206, 206, ...       1   \n",
       "\n",
       "                                   locations             scene_ids  \n",
       "0  [-118.40497658522878, 33.940618514147936]  20170620_175442_0e30  \n",
       "1            [-122.392469714, 37.6176425378]  20161212_180859_0e30  \n",
       "2            [-122.397578597, 37.6209247852]  20170524_181349_0e2f  \n",
       "3            [-122.214849831, 37.7203378331]  20161110_180707_0e1f  \n",
       "4            [-117.862173435, 33.6796854072]  20160813_184932_0c64  "
      ]
     },
     "execution_count": 12,
     "metadata": {},
     "output_type": "execute_result"
    }
   ],
   "source": [
    "df = pd.read_json(\"./aircraft_training_data/planesnet.json\")\n",
    "df.head()"
   ]
  },
  {
   "cell_type": "code",
   "execution_count": 50,
   "metadata": {},
   "outputs": [],
   "source": [
    "def get_image_path(row) -> pathlib.Path:\n",
    "    \"\"\"\n",
    "    Generate the image path\n",
    "\n",
    "    Args:\n",
    "        row (_type_): pandas dataframe row\n",
    "\n",
    "    Returns:\n",
    "        Path: pathlib.Path\n",
    "    \"\"\"\n",
    "    lat, lon = row['locations']\n",
    "    image_type = \"png\"\n",
    "    location_string = f\"{lat}_{lon}\"\n",
    "    scene_id = row['scene_ids']\n",
    "    is_airplane = row['labels']\n",
    "    image_path = pathlib.Path(f\"{os.getcwd()}/aircraft_training_data/planesnet/planesnet/{is_airplane}__{scene_id}__{location_string}.{image_type}\")\n",
    "    #C:\\Users\\faust\\code\\dev-aircraft-ident\\aircraft_training_data\\planesnet\\planesnet\\1__20170729_175335_101d__-118.40473405414056_33.945758062355.png\n",
    "    return image_path\n",
    "\n",
    "def get_image_data(row) -> np.array:\n",
    "    try:\n",
    "        image_path = row['image_path']\n",
    "        i = Image.open(image_path)\n",
    "        i = np.array(i)\n",
    "        return i\n",
    "    except FileNotFoundError as e:\n",
    "        return np.nan\n"
   ]
  },
  {
   "cell_type": "code",
   "execution_count": 51,
   "metadata": {},
   "outputs": [],
   "source": [
    "df['image_path'] = df.apply(get_image_path, axis=1)\n",
    "df['image'] = df.apply(get_image_data, axis=1)"
   ]
  },
  {
   "cell_type": "code",
   "execution_count": 59,
   "metadata": {},
   "outputs": [],
   "source": [
    "df.dropna(subset=['image'], inplace=True)\n",
    "images = np.array(df.image.to_list())\n",
    "labels = np.array(df.labels.to_list())"
   ]
  },
  {
   "cell_type": "code",
   "execution_count": 66,
   "metadata": {},
   "outputs": [
    {
     "data": {
      "text/plain": [
       "array([1, 1, 1, ..., 0, 0, 0])"
      ]
     },
     "execution_count": 66,
     "metadata": {},
     "output_type": "execute_result"
    }
   ],
   "source": [
    "images[0].shape\n",
    "labels[50:60]"
   ]
  },
  {
   "cell_type": "code",
   "execution_count": 67,
   "metadata": {},
   "outputs": [],
   "source": [
    "X_train, X_test, y_train, y_test = train_test_split(images, labels, test_size = 0.25, random_state = 42)"
   ]
  },
  {
   "cell_type": "code",
   "execution_count": 68,
   "metadata": {},
   "outputs": [
    {
     "name": "stdout",
     "output_type": "stream",
     "text": [
      "(23863, 20, 20, 3)\n",
      "(7955, 20, 20, 3)\n",
      "(23863,)\n",
      "(7955,)\n"
     ]
    }
   ],
   "source": [
    "print(X_train.shape)\n",
    "print(X_test.shape)\n",
    "print(y_train.shape)\n",
    "print(y_test.shape)"
   ]
  },
  {
   "cell_type": "code",
   "execution_count": 69,
   "metadata": {},
   "outputs": [],
   "source": [
    "#RESHAPING AND NORMALIZATION\n",
    "X_train = X_train.astype('float32')\n",
    "X_train = X_train.reshape(X_train.shape[0],20,20,3)\n",
    "X_train = X_train / 255.\n",
    "\n",
    "X_test = X_test.astype('float32')\n",
    "X_test = X_test.reshape(X_test.shape[0], 20,20,3)\n",
    "X_test = X_test / 255."
   ]
  },
  {
   "cell_type": "code",
   "execution_count": 70,
   "metadata": {},
   "outputs": [],
   "source": [
    "\n",
    "\n",
    "from tensorflow.keras.models import Sequential\n",
    "from tensorflow.keras.layers import Convolution2D, Dropout, Dense, Flatten, BatchNormalization, MaxPooling2D\n",
    "\n",
    "# model architecture building\n",
    "model_1 = Sequential()\n",
    "\n",
    "model_1.add(BatchNormalization(input_shape = (20, 20, 3)))\n",
    "\n",
    "model_1.add(Convolution2D(filters = 32, kernel_size = 3, activation ='relu', input_shape = (20, 20, 3))) \n",
    "model_1.add(MaxPooling2D(pool_size = 2))\n",
    "\n",
    "\n",
    "model_1.add(Convolution2D(filters = 64, kernel_size = 3, padding = 'same', activation = 'relu'))\n",
    "model_1.add(MaxPooling2D(pool_size = 2))\n",
    "\n",
    "model_1.add(Flatten()) \n",
    "\n",
    "# fully connected layer\n",
    "model_1.add(Dense(units = 64,activation = 'relu'))\n",
    "\n",
    "# Classification layer\n",
    "model_1.add(Dense(units = 1, activation = 'sigmoid')) \n",
    "\n"
   ]
  },
  {
   "cell_type": "code",
   "execution_count": 73,
   "metadata": {},
   "outputs": [
    {
     "name": "stdout",
     "output_type": "stream",
     "text": [
      "Model: \"sequential\"\n",
      "_________________________________________________________________\n",
      " Layer (type)                Output Shape              Param #   \n",
      "=================================================================\n",
      " batch_normalization (Batch  (None, 20, 20, 3)         12        \n",
      " Normalization)                                                  \n",
      "                                                                 \n",
      " conv2d (Conv2D)             (None, 18, 18, 32)        896       \n",
      "                                                                 \n",
      " max_pooling2d (MaxPooling2  (None, 9, 9, 32)          0         \n",
      " D)                                                              \n",
      "                                                                 \n",
      " conv2d_1 (Conv2D)           (None, 9, 9, 64)          18496     \n",
      "                                                                 \n",
      " max_pooling2d_1 (MaxPoolin  (None, 4, 4, 64)          0         \n",
      " g2D)                                                            \n",
      "                                                                 \n",
      " flatten (Flatten)           (None, 1024)              0         \n",
      "                                                                 \n",
      " dense (Dense)               (None, 64)                65600     \n",
      "                                                                 \n",
      " dense_1 (Dense)             (None, 1)                 65        \n",
      "                                                                 \n",
      "=================================================================\n",
      "Total params: 85069 (332.30 KB)\n",
      "Trainable params: 85063 (332.28 KB)\n",
      "Non-trainable params: 6 (24.00 Byte)\n",
      "_________________________________________________________________\n"
     ]
    }
   ],
   "source": [
    "from tensorflow.keras.optimizers import Adam\n",
    "opt = Adam(learning_rate=0.0001)\n",
    "model_1.compile(optimizer=opt, loss = 'binary_crossentropy', metrics = ['accuracy'])\n",
    "model_1.summary()"
   ]
  },
  {
   "cell_type": "code",
   "execution_count": 74,
   "metadata": {},
   "outputs": [
    {
     "name": "stdout",
     "output_type": "stream",
     "text": [
      "Epoch 1/30\n",
      "746/746 [==============================] - 6s 7ms/step - loss: 0.2744 - accuracy: 0.8908 - val_loss: 0.1904 - val_accuracy: 0.9282\n",
      "Epoch 2/30\n",
      "746/746 [==============================] - 5s 7ms/step - loss: 0.1580 - accuracy: 0.9431 - val_loss: 0.1350 - val_accuracy: 0.9500\n",
      "Epoch 3/30\n",
      "746/746 [==============================] - 5s 7ms/step - loss: 0.1219 - accuracy: 0.9544 - val_loss: 0.1164 - val_accuracy: 0.9565\n",
      "Epoch 4/30\n",
      "746/746 [==============================] - 5s 7ms/step - loss: 0.1068 - accuracy: 0.9591 - val_loss: 0.1209 - val_accuracy: 0.9550\n",
      "Epoch 5/30\n",
      "746/746 [==============================] - 5s 7ms/step - loss: 0.0945 - accuracy: 0.9653 - val_loss: 0.0971 - val_accuracy: 0.9647\n",
      "Epoch 6/30\n",
      "746/746 [==============================] - 5s 7ms/step - loss: 0.0869 - accuracy: 0.9676 - val_loss: 0.0930 - val_accuracy: 0.9664\n",
      "Epoch 7/30\n",
      "746/746 [==============================] - 5s 7ms/step - loss: 0.0804 - accuracy: 0.9704 - val_loss: 0.0951 - val_accuracy: 0.9640\n",
      "Epoch 8/30\n",
      "746/746 [==============================] - 5s 7ms/step - loss: 0.0737 - accuracy: 0.9737 - val_loss: 0.0801 - val_accuracy: 0.9695\n",
      "Epoch 9/30\n",
      "746/746 [==============================] - 5s 7ms/step - loss: 0.0691 - accuracy: 0.9745 - val_loss: 0.0754 - val_accuracy: 0.9728\n",
      "Epoch 10/30\n",
      "746/746 [==============================] - 5s 7ms/step - loss: 0.0647 - accuracy: 0.9764 - val_loss: 0.0784 - val_accuracy: 0.9707\n",
      "Epoch 11/30\n",
      "746/746 [==============================] - 5s 7ms/step - loss: 0.0619 - accuracy: 0.9779 - val_loss: 0.0753 - val_accuracy: 0.9713\n",
      "Epoch 12/30\n",
      "746/746 [==============================] - 5s 7ms/step - loss: 0.0586 - accuracy: 0.9794 - val_loss: 0.0710 - val_accuracy: 0.9739\n",
      "Epoch 13/30\n",
      "746/746 [==============================] - 5s 7ms/step - loss: 0.0538 - accuracy: 0.9802 - val_loss: 0.0708 - val_accuracy: 0.9734\n",
      "Epoch 14/30\n",
      "746/746 [==============================] - 5s 7ms/step - loss: 0.0522 - accuracy: 0.9813 - val_loss: 0.0669 - val_accuracy: 0.9764\n",
      "Epoch 15/30\n",
      "746/746 [==============================] - 5s 7ms/step - loss: 0.0476 - accuracy: 0.9838 - val_loss: 0.0692 - val_accuracy: 0.9749\n",
      "Epoch 16/30\n",
      "746/746 [==============================] - 5s 7ms/step - loss: 0.0466 - accuracy: 0.9834 - val_loss: 0.0624 - val_accuracy: 0.9774\n",
      "Epoch 17/30\n",
      "746/746 [==============================] - 5s 7ms/step - loss: 0.0430 - accuracy: 0.9857 - val_loss: 0.0619 - val_accuracy: 0.9780\n",
      "Epoch 18/30\n",
      "746/746 [==============================] - 5s 7ms/step - loss: 0.0408 - accuracy: 0.9859 - val_loss: 0.0570 - val_accuracy: 0.9799\n",
      "Epoch 19/30\n",
      "746/746 [==============================] - 5s 7ms/step - loss: 0.0391 - accuracy: 0.9875 - val_loss: 0.0670 - val_accuracy: 0.9760\n",
      "Epoch 20/30\n",
      "746/746 [==============================] - 5s 7ms/step - loss: 0.0370 - accuracy: 0.9875 - val_loss: 0.0562 - val_accuracy: 0.9803\n",
      "Epoch 21/30\n",
      "746/746 [==============================] - 5s 6ms/step - loss: 0.0343 - accuracy: 0.9885 - val_loss: 0.0627 - val_accuracy: 0.9783\n",
      "Epoch 22/30\n",
      "746/746 [==============================] - 5s 6ms/step - loss: 0.0325 - accuracy: 0.9896 - val_loss: 0.0666 - val_accuracy: 0.9774\n",
      "Epoch 23/30\n",
      "746/746 [==============================] - 5s 7ms/step - loss: 0.0321 - accuracy: 0.9898 - val_loss: 0.0563 - val_accuracy: 0.9813\n",
      "Epoch 24/30\n",
      "746/746 [==============================] - 5s 7ms/step - loss: 0.0297 - accuracy: 0.9904 - val_loss: 0.0608 - val_accuracy: 0.9799\n",
      "Epoch 25/30\n",
      "746/746 [==============================] - 5s 7ms/step - loss: 0.0279 - accuracy: 0.9901 - val_loss: 0.0604 - val_accuracy: 0.9799\n",
      "Epoch 26/30\n",
      "746/746 [==============================] - 5s 7ms/step - loss: 0.0254 - accuracy: 0.9922 - val_loss: 0.0598 - val_accuracy: 0.9803\n",
      "Epoch 27/30\n",
      "746/746 [==============================] - 5s 7ms/step - loss: 0.0246 - accuracy: 0.9920 - val_loss: 0.0522 - val_accuracy: 0.9820\n",
      "Epoch 28/30\n",
      "746/746 [==============================] - 5s 7ms/step - loss: 0.0236 - accuracy: 0.9923 - val_loss: 0.0514 - val_accuracy: 0.9825\n",
      "Epoch 29/30\n",
      "746/746 [==============================] - 5s 7ms/step - loss: 0.0224 - accuracy: 0.9930 - val_loss: 0.0507 - val_accuracy: 0.9829\n",
      "Epoch 30/30\n",
      "746/746 [==============================] - 5s 7ms/step - loss: 0.0203 - accuracy: 0.9938 - val_loss: 0.0494 - val_accuracy: 0.9832\n"
     ]
    }
   ],
   "source": [
    "model = model_1.fit(X_train, y_train, epochs = 30, batch_size = 32, validation_data = (X_test, y_test),verbose=1)"
   ]
  },
  {
   "cell_type": "code",
   "execution_count": 80,
   "metadata": {},
   "outputs": [
    {
     "data": {
      "image/png": "[encoded data removed]",
      "text/plain": [
       "<Figure size 640x480 with 1 Axes>"
      ]
     },
     "metadata": {},
     "output_type": "display_data"
    }
   ],
   "source": [
    "EPOCH=30\n",
    "loss_train = model.history['loss']\n",
    "loss_val = model.history['val_loss']\n",
    "epochs = range(1,EPOCH+1)\n",
    "plt.plot(epochs, loss_train, 'g', label='Training loss')\n",
    "plt.plot(epochs, loss_val, 'b', label='validation loss')\n",
    "plt.title('Training and Validation loss')\n",
    "plt.xlabel('Epochs')\n",
    "plt.ylabel('Loss')\n",
    "plt.legend()\n",
    "plt.show()"
   ]
  },
  {
   "cell_type": "code",
   "execution_count": 81,
   "metadata": {},
   "outputs": [
    {
     "data": {
      "image/png": "[encoded data removed]",
      "text/plain": [
       "<Figure size 640x480 with 1 Axes>"
      ]
     },
     "metadata": {},
     "output_type": "display_data"
    }
   ],
   "source": [
    "EPOCH=30\n",
    "Acc_train = model.history['accuracy']\n",
    "Acc_val = model.history['val_accuracy']\n",
    "epochs = range(1,EPOCH+1)\n",
    "plt.plot(epochs, Acc_train, 'g', label='Training accuracy')\n",
    "plt.plot(epochs, Acc_val, 'b', label='validation accuracy')\n",
    "plt.title('Training and Validation accuracy')\n",
    "plt.xlabel('Epochs')\n",
    "plt.ylabel('accuracy')\n",
    "plt.legend()\n",
    "plt.show()"
   ]
  },
  {
   "cell_type": "code",
   "execution_count": 83,
   "metadata": {},
   "outputs": [
    {
     "name": "stdout",
     "output_type": "stream",
     "text": [
      " 1/40 [..............................] - ETA: 0s - loss: 0.0847 - accuracy: 0.9750"
     ]
    },
    {
     "name": "stdout",
     "output_type": "stream",
     "text": [
      "40/40 [==============================] - 0s 7ms/step - loss: 0.0494 - accuracy: 0.9832\n"
     ]
    },
    {
     "data": {
      "text/plain": [
       "[0.04938598349690437, 0.9831552505493164]"
      ]
     },
     "execution_count": 83,
     "metadata": {},
     "output_type": "execute_result"
    }
   ],
   "source": [
    "model_1.evaluate(x=X_test, y=y_test, batch_size=200)"
   ]
  },
  {
   "cell_type": "code",
   "execution_count": 86,
   "metadata": {},
   "outputs": [],
   "source": [
    "model_1.save(\"./model_001.keras\")"
   ]
  }
 ],
 "metadata": {
  "kernelspec": {
   "display_name": ".venv",
   "language": "python",
   "name": "python3"
  },
  "language_info": {
   "codemirror_mode": {
    "name": "ipython",
    "version": 3
   },
   "file_extension": ".py",
   "mimetype": "text/x-python",
   "name": "python",
   "nbconvert_exporter": "python",
   "pygments_lexer": "ipython3",
   "version": "3.11.4"
  },
  "orig_nbformat": 4
 },
 "nbformat": 4,
 "nbformat_minor": 2
}
